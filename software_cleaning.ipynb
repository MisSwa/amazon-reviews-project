{
 "cells": [
  {
   "cell_type": "code",
   "execution_count": null,
   "metadata": {},
   "outputs": [],
   "source": [
    "from smart_open import open\n",
    "\n",
    "import json\n",
    "import pprint\n",
    "import pandas as pd\n",
    "import numpy as np"
   ]
  },
  {
   "cell_type": "code",
   "execution_count": 48,
   "metadata": {},
   "outputs": [],
   "source": [
    "df = pd.read_csv('s3://checkpoint1-inputfiles/reviews_software.json',low_memory=False)"
   ]
  },
  {
   "cell_type": "code",
   "execution_count": 49,
   "metadata": {},
   "outputs": [
    {
     "data": {
      "text/plain": [
       "(12805, 18)"
      ]
     },
     "execution_count": 49,
     "metadata": {},
     "output_type": "execute_result"
    }
   ],
   "source": [
    "df.shape"
   ]
  },
  {
   "cell_type": "code",
   "execution_count": 50,
   "metadata": {},
   "outputs": [
    {
     "data": {
      "text/html": [
       "<div>\n",
       "<style scoped>\n",
       "    .dataframe tbody tr th:only-of-type {\n",
       "        vertical-align: middle;\n",
       "    }\n",
       "\n",
       "    .dataframe tbody tr th {\n",
       "        vertical-align: top;\n",
       "    }\n",
       "\n",
       "    .dataframe thead th {\n",
       "        text-align: right;\n",
       "    }\n",
       "</style>\n",
       "<table border=\"1\" class=\"dataframe\">\n",
       "  <thead>\n",
       "    <tr style=\"text-align: right;\">\n",
       "      <th></th>\n",
       "      <th>overall</th>\n",
       "      <th>verified</th>\n",
       "      <th>reviewTime</th>\n",
       "      <th>reviewerID</th>\n",
       "      <th>asin</th>\n",
       "      <th>reviewerName</th>\n",
       "      <th>reviewText</th>\n",
       "      <th>summary</th>\n",
       "      <th>unixReviewTime</th>\n",
       "      <th>style_Format</th>\n",
       "      <th>vote</th>\n",
       "      <th>image</th>\n",
       "      <th>style_Platform</th>\n",
       "      <th>style_Color</th>\n",
       "      <th>style_Size</th>\n",
       "      <th>style_Package_Type</th>\n",
       "      <th>style_Style</th>\n",
       "      <th>style_Style_Name</th>\n",
       "    </tr>\n",
       "  </thead>\n",
       "  <tbody>\n",
       "    <tr>\n",
       "      <th>0</th>\n",
       "      <td>4.0</td>\n",
       "      <td>False</td>\n",
       "      <td>2010-10-20</td>\n",
       "      <td>A38NELQT98S4H8</td>\n",
       "      <td>0321719816</td>\n",
       "      <td>WB Halper</td>\n",
       "      <td>I ve been using Dreamweaver (and it s predeces...</td>\n",
       "      <td>A solid overview of Dreamweaver CS5</td>\n",
       "      <td>1287532800</td>\n",
       "      <td>DVD-ROM</td>\n",
       "      <td>NaN</td>\n",
       "      <td>NaN</td>\n",
       "      <td>NaN</td>\n",
       "      <td>NaN</td>\n",
       "      <td>A solid overview of Dreamweaver CS5</td>\n",
       "      <td>NaN</td>\n",
       "      <td>NaN</td>\n",
       "      <td>NaN</td>\n",
       "    </tr>\n",
       "    <tr>\n",
       "      <th>1</th>\n",
       "      <td>4.0</td>\n",
       "      <td>False</td>\n",
       "      <td>2010-10-18</td>\n",
       "      <td>A3QJU4FEN8PQSZ</td>\n",
       "      <td>0321719816</td>\n",
       "      <td>Grimmy</td>\n",
       "      <td>The demo is done with the PC version, with ref...</td>\n",
       "      <td>A good value</td>\n",
       "      <td>1287360000</td>\n",
       "      <td>DVD-ROM</td>\n",
       "      <td>NaN</td>\n",
       "      <td>NaN</td>\n",
       "      <td>NaN</td>\n",
       "      <td>NaN</td>\n",
       "      <td>A good value</td>\n",
       "      <td>NaN</td>\n",
       "      <td>NaN</td>\n",
       "      <td>NaN</td>\n",
       "    </tr>\n",
       "  </tbody>\n",
       "</table>\n",
       "</div>"
      ],
      "text/plain": [
       "   overall  verified  reviewTime      reviewerID        asin reviewerName  \\\n",
       "0      4.0     False  2010-10-20  A38NELQT98S4H8  0321719816    WB Halper   \n",
       "1      4.0     False  2010-10-18  A3QJU4FEN8PQSZ  0321719816       Grimmy   \n",
       "\n",
       "                                          reviewText  \\\n",
       "0  I ve been using Dreamweaver (and it s predeces...   \n",
       "1  The demo is done with the PC version, with ref...   \n",
       "\n",
       "                               summary  unixReviewTime style_Format  vote  \\\n",
       "0  A solid overview of Dreamweaver CS5      1287532800      DVD-ROM   NaN   \n",
       "1                         A good value      1287360000      DVD-ROM   NaN   \n",
       "\n",
       "  image style_Platform style_Color                           style_Size  \\\n",
       "0   NaN            NaN         NaN  A solid overview of Dreamweaver CS5   \n",
       "1   NaN            NaN         NaN                         A good value   \n",
       "\n",
       "  style_Package_Type style_Style style_Style_Name  \n",
       "0                NaN         NaN              NaN  \n",
       "1                NaN         NaN              NaN  "
      ]
     },
     "execution_count": 50,
     "metadata": {},
     "output_type": "execute_result"
    }
   ],
   "source": [
    "df.head(2)"
   ]
  },
  {
   "cell_type": "code",
   "execution_count": 36,
   "metadata": {},
   "outputs": [
    {
     "data": {
      "text/plain": [
       "Index(['overall', 'verified', 'reviewTime', 'reviewerID', 'asin',\n",
       "       'reviewerName', 'reviewText', 'summary', 'unixReviewTime',\n",
       "       'style_Format', 'vote', 'image', 'style_Platform', 'style_Color',\n",
       "       'style_Size', 'style_Package_Type', 'style_Style', 'style_Style_Name'],\n",
       "      dtype='object')"
      ]
     },
     "execution_count": 36,
     "metadata": {},
     "output_type": "execute_result"
    }
   ],
   "source": [
    "df.columns"
   ]
  },
  {
   "cell_type": "code",
   "execution_count": 37,
   "metadata": {},
   "outputs": [],
   "source": [
    "reviewer_details = ['reviewerID','reviewerName']\n",
    "review_details = ['asin','reviewerID','reviewerName','overall', 'reviewTime', 'verified', 'unixReviewTime','vote']\n",
    "product_details = ['asin','style_Format', 'vote', 'image', 'style_Platform', 'style_Color',\n",
    "       'style_Size', 'style_Package_Type', 'style_Style', 'style_Style_Name']"
   ]
  },
  {
   "cell_type": "code",
   "execution_count": 43,
   "metadata": {},
   "outputs": [],
   "source": [
    "reviewers = df[reviewer_details].drop_duplicates(subset = ['reviewerID'])\n",
    "reviews = df[review_details].drop_duplicates()\n",
    "products = df[product_details].drop_duplicates()"
   ]
  },
  {
   "cell_type": "code",
   "execution_count": 45,
   "metadata": {},
   "outputs": [],
   "source": [
    "reviewers.to_csv('s3://checkpoint1-inputfiles/software_reviewers.csv', index = False)\n",
    "reviews.to_csv('s3://checkpoint1-inputfiles/software_reviews.csv', index = False)\n",
    "products.to_csv('s3://checkpoint1-inputfiles/software_products.csv', index = False)"
   ]
  },
  {
   "cell_type": "code",
   "execution_count": null,
   "metadata": {},
   "outputs": [],
   "source": []
  }
 ],
 "metadata": {
  "kernelspec": {
   "display_name": "Python 3",
   "language": "python",
   "name": "python3"
  },
  "language_info": {
   "codemirror_mode": {
    "name": "ipython",
    "version": 3
   },
   "file_extension": ".py",
   "mimetype": "text/x-python",
   "name": "python",
   "nbconvert_exporter": "python",
   "pygments_lexer": "ipython3",
   "version": "3.7.6"
  }
 },
 "nbformat": 4,
 "nbformat_minor": 4
}
