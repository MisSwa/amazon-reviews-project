{
 "cells": [
  {
   "cell_type": "markdown",
   "metadata": {},
   "source": [
    "# Preprocessing"
   ]
  },
  {
   "cell_type": "code",
   "execution_count": null,
   "metadata": {},
   "outputs": [],
   "source": [
    "!pip install smart_open"
   ]
  },
  {
   "cell_type": "code",
   "execution_count": 20,
   "metadata": {},
   "outputs": [],
   "source": [
    "from smart_open import open\n",
    "\n",
    "import json\n",
    "import pprint\n",
    "import pandas as pd\n",
    "import numpy as np"
   ]
  },
  {
   "cell_type": "code",
   "execution_count": 52,
   "metadata": {},
   "outputs": [
    {
     "name": "stdout",
     "output_type": "stream",
     "text": [
      "JSON extracted to S3: 497577 lines!\n",
      "CPU times: user 6.61 s, sys: 890 ms, total: 7.5 s\n",
      "Wall time: 12 s\n"
     ]
    }
   ],
   "source": [
    "%%time\n",
    "line_count = 0\n",
    "with open('http://deepyeti.ucsd.edu/jianmo/amazon/categoryFilesSmall/Video_Games_5.json.gz') as fin:\n",
    "    with open('s3://checkpoint1-inputfiles/reviews_videogames.json', 'w') as fout:\n",
    "        for line in fin:\n",
    "            fout.write(line)\n",
    "            line_count = line_count + 1\n",
    "print('JSON extracted to S3: ' + str(line_count) + ' lines!')\n"
   ]
  },
  {
   "cell_type": "code",
   "execution_count": 4,
   "metadata": {},
   "outputs": [
    {
     "name": "stdout",
     "output_type": "stream",
     "text": [
      "{\"overall\": 5.0, \"verified\": true, \"reviewTime\": \"10 17, 2015\", \"reviewerID\": \"A1HP7NVNPFMA4N\", \"asin\": \"0700026657\", \"reviewerName\": \"Ambrosia075\", \"reviewText\": \"This game is a bit hard to get the hang of, but when you do it's great.\", \"summary\": \"but when you do it's great.\", \"unixReviewTime\": 1445040000}\n",
      "\n"
     ]
    }
   ],
   "source": [
    "with open('s3://checkpoint1-inputfiles/reviews_videogames.json') as f:\n",
    "    first_line = f.readline()\n",
    "print(first_line)"
   ]
  },
  {
   "cell_type": "code",
   "execution_count": 5,
   "metadata": {},
   "outputs": [
    {
     "name": "stdout",
     "output_type": "stream",
     "text": [
      "{'asin': '0700026657',\n",
      " 'overall': 5.0,\n",
      " 'reviewText': 'This game is a bit hard to get the hang of, but when you do '\n",
      "               \"it's great.\",\n",
      " 'reviewTime': '10 17, 2015',\n",
      " 'reviewerID': 'A1HP7NVNPFMA4N',\n",
      " 'reviewerName': 'Ambrosia075',\n",
      " 'summary': \"but when you do it's great.\",\n",
      " 'unixReviewTime': 1445040000,\n",
      " 'verified': True}\n"
     ]
    }
   ],
   "source": [
    "pprint.pprint(json.loads(first_line))"
   ]
  },
  {
   "cell_type": "code",
   "execution_count": 6,
   "metadata": {},
   "outputs": [
    {
     "name": "stdout",
     "output_type": "stream",
     "text": [
      "CPU times: user 6.4 s, sys: 973 ms, total: 7.37 s\n",
      "Wall time: 10.2 s\n"
     ]
    }
   ],
   "source": [
    "%%time\n",
    "with open('s3://checkpoint1-inputfiles/reviews_videogames.json') as f:\n",
    "        content = [json.loads(line) for line in f]"
   ]
  },
  {
   "cell_type": "code",
   "execution_count": 7,
   "metadata": {},
   "outputs": [],
   "source": [
    "df = pd.json_normalize(content)"
   ]
  },
  {
   "cell_type": "code",
   "execution_count": 8,
   "metadata": {},
   "outputs": [
    {
     "data": {
      "text/plain": [
       "(497577, 30)"
      ]
     },
     "execution_count": 8,
     "metadata": {},
     "output_type": "execute_result"
    }
   ],
   "source": [
    "df.shape"
   ]
  },
  {
   "cell_type": "code",
   "execution_count": 9,
   "metadata": {},
   "outputs": [],
   "source": [
    "df.columns = df.columns.str.replace(':','')\n",
    "df.columns = df.columns.str.replace(' ','-')\n",
    "df.columns = df.columns.str.replace('.','_')"
   ]
  },
  {
   "cell_type": "code",
   "execution_count": 10,
   "metadata": {},
   "outputs": [],
   "source": [
    "df['vote'] = df['vote'].replace(np.nan, 0)\n",
    "df['vote'] = df['vote'].str.replace(',', '')\n",
    "df['vote'] = df['vote'].apply(pd.to_numeric)"
   ]
  },
  {
   "cell_type": "code",
   "execution_count": 11,
   "metadata": {},
   "outputs": [
    {
     "data": {
      "text/html": [
       "<div>\n",
       "<style scoped>\n",
       "    .dataframe tbody tr th:only-of-type {\n",
       "        vertical-align: middle;\n",
       "    }\n",
       "\n",
       "    .dataframe tbody tr th {\n",
       "        vertical-align: top;\n",
       "    }\n",
       "\n",
       "    .dataframe thead th {\n",
       "        text-align: right;\n",
       "    }\n",
       "</style>\n",
       "<table border=\"1\" class=\"dataframe\">\n",
       "  <thead>\n",
       "    <tr style=\"text-align: right;\">\n",
       "      <th></th>\n",
       "      <th>overall</th>\n",
       "      <th>verified</th>\n",
       "      <th>reviewTime</th>\n",
       "      <th>reviewerID</th>\n",
       "      <th>asin</th>\n",
       "      <th>reviewerName</th>\n",
       "      <th>reviewText</th>\n",
       "      <th>summary</th>\n",
       "      <th>unixReviewTime</th>\n",
       "      <th>vote</th>\n",
       "      <th>...</th>\n",
       "      <th>style_Package-Type</th>\n",
       "      <th>style_Package-Quantity</th>\n",
       "      <th>style_Item-Package-Quantity</th>\n",
       "      <th>style_Pattern</th>\n",
       "      <th>style_Platform-for-Display</th>\n",
       "      <th>style_Style-Name</th>\n",
       "      <th>style_Denomination</th>\n",
       "      <th>style_Offer-Type</th>\n",
       "      <th>style_Configuration</th>\n",
       "      <th>style_Color-Name</th>\n",
       "    </tr>\n",
       "  </thead>\n",
       "  <tbody>\n",
       "    <tr>\n",
       "      <th>0</th>\n",
       "      <td>5.0</td>\n",
       "      <td>True</td>\n",
       "      <td>10 17, 2015</td>\n",
       "      <td>A1HP7NVNPFMA4N</td>\n",
       "      <td>0700026657</td>\n",
       "      <td>Ambrosia075</td>\n",
       "      <td>This game is a bit hard to get the hang of, bu...</td>\n",
       "      <td>but when you do it's great.</td>\n",
       "      <td>1445040000</td>\n",
       "      <td>NaN</td>\n",
       "      <td>...</td>\n",
       "      <td>NaN</td>\n",
       "      <td>NaN</td>\n",
       "      <td>NaN</td>\n",
       "      <td>NaN</td>\n",
       "      <td>NaN</td>\n",
       "      <td>NaN</td>\n",
       "      <td>NaN</td>\n",
       "      <td>NaN</td>\n",
       "      <td>NaN</td>\n",
       "      <td>NaN</td>\n",
       "    </tr>\n",
       "  </tbody>\n",
       "</table>\n",
       "<p>1 rows × 30 columns</p>\n",
       "</div>"
      ],
      "text/plain": [
       "   overall  verified   reviewTime      reviewerID        asin reviewerName  \\\n",
       "0      5.0      True  10 17, 2015  A1HP7NVNPFMA4N  0700026657  Ambrosia075   \n",
       "\n",
       "                                          reviewText  \\\n",
       "0  This game is a bit hard to get the hang of, bu...   \n",
       "\n",
       "                       summary  unixReviewTime  vote  ... style_Package-Type  \\\n",
       "0  but when you do it's great.      1445040000   NaN  ...                NaN   \n",
       "\n",
       "  style_Package-Quantity style_Item-Package-Quantity style_Pattern  \\\n",
       "0                    NaN                         NaN           NaN   \n",
       "\n",
       "  style_Platform-for-Display style_Style-Name style_Denomination  \\\n",
       "0                        NaN              NaN                NaN   \n",
       "\n",
       "  style_Offer-Type style_Configuration style_Color-Name  \n",
       "0              NaN                 NaN              NaN  \n",
       "\n",
       "[1 rows x 30 columns]"
      ]
     },
     "execution_count": 11,
     "metadata": {},
     "output_type": "execute_result"
    }
   ],
   "source": [
    "df.head(1)"
   ]
  },
  {
   "cell_type": "code",
   "execution_count": 12,
   "metadata": {},
   "outputs": [
    {
     "data": {
      "text/plain": [
       "overall                        float64\n",
       "verified                          bool\n",
       "reviewTime                      object\n",
       "reviewerID                      object\n",
       "asin                            object\n",
       "reviewerName                    object\n",
       "reviewText                      object\n",
       "summary                         object\n",
       "unixReviewTime                   int64\n",
       "vote                           float64\n",
       "style_Format                    object\n",
       "image                           object\n",
       "style_Platform                  object\n",
       "style_Edition                   object\n",
       "style_Color                     object\n",
       "style_Size                      object\n",
       "style_Style                     object\n",
       "style_Length                    object\n",
       "style_Subscription-Length       object\n",
       "style_Content                   object\n",
       "style_Package-Type              object\n",
       "style_Package-Quantity          object\n",
       "style_Item-Package-Quantity     object\n",
       "style_Pattern                   object\n",
       "style_Platform-for-Display      object\n",
       "style_Style-Name                object\n",
       "style_Denomination              object\n",
       "style_Offer-Type                object\n",
       "style_Configuration             object\n",
       "style_Color-Name                object\n",
       "dtype: object"
      ]
     },
     "execution_count": 12,
     "metadata": {},
     "output_type": "execute_result"
    }
   ],
   "source": [
    "df.dtypes"
   ]
  },
  {
   "cell_type": "code",
   "execution_count": 13,
   "metadata": {},
   "outputs": [
    {
     "data": {
      "text/plain": [
       "Index(['overall', 'verified', 'reviewTime', 'reviewerID', 'asin',\n",
       "       'reviewerName', 'reviewText', 'summary', 'unixReviewTime', 'vote',\n",
       "       'style_Format', 'image', 'style_Platform', 'style_Edition',\n",
       "       'style_Color', 'style_Size', 'style_Style', 'style_Length',\n",
       "       'style_Subscription-Length', 'style_Content', 'style_Package-Type',\n",
       "       'style_Package-Quantity', 'style_Item-Package-Quantity',\n",
       "       'style_Pattern', 'style_Platform-for-Display', 'style_Style-Name',\n",
       "       'style_Denomination', 'style_Offer-Type', 'style_Configuration',\n",
       "       'style_Color-Name'],\n",
       "      dtype='object')"
      ]
     },
     "execution_count": 13,
     "metadata": {},
     "output_type": "execute_result"
    }
   ],
   "source": [
    "df.columns"
   ]
  },
  {
   "cell_type": "code",
   "execution_count": 14,
   "metadata": {},
   "outputs": [
    {
     "name": "stdout",
     "output_type": "stream",
     "text": [
      "CPU times: user 14.4 s, sys: 300 ms, total: 14.7 s\n",
      "Wall time: 14.8 s\n"
     ]
    }
   ],
   "source": [
    "%%time\n",
    "spl_chars = [' \\n', '\"', \"'\"]\n",
    "for char in spl_chars:\n",
    "    for column in df.columns:\n",
    "        if df[column].dtypes == 'object':\n",
    "            df[column] = df[column].str.replace(char, ' ')"
   ]
  },
  {
   "cell_type": "code",
   "execution_count": 15,
   "metadata": {},
   "outputs": [],
   "source": [
    "df['reviewTime'] = df['reviewTime'].str.replace(',', '')\n",
    "df['reviewTime'] = df['reviewTime'].str.replace(' ', '/')\n",
    "df['reviewTime'] = pd.to_datetime(df['reviewTime'])"
   ]
  },
  {
   "cell_type": "code",
   "execution_count": 16,
   "metadata": {},
   "outputs": [],
   "source": [
    "df.to_csv(\"s3://checkpoint1-inputfiles/reviews_videogames.csv\", index = False)"
   ]
  },
  {
   "cell_type": "markdown",
   "metadata": {},
   "source": [
    "# Read the csv file from S3"
   ]
  },
  {
   "cell_type": "code",
   "execution_count": 63,
   "metadata": {},
   "outputs": [],
   "source": [
    "from smart_open import open\n",
    "\n",
    "import json\n",
    "import pprint\n",
    "import pandas as pd\n",
    "import numpy as np\n",
    "\n",
    "from sagemaker import get_execution_role\n",
    "\n",
    "%matplotlib inline\n",
    "\n",
    "import os, re\n",
    "\n",
    "import boto3\n",
    "import matplotlib.pyplot as plt\n",
    "\n",
    "np.set_printoptions(precision=3, suppress=True)\n",
    "\n",
    "import sagemaker\n",
    "from sagemaker.amazon.common import RecordSerializer\n",
    "from sagemaker.serializers import CSVSerializer\n",
    "from sagemaker.deserializers import JSONDeserializer"
   ]
  },
  {
   "cell_type": "code",
   "execution_count": 64,
   "metadata": {},
   "outputs": [
    {
     "name": "stdout",
     "output_type": "stream",
     "text": [
      "CPU times: user 6.87 s, sys: 993 ms, total: 7.86 s\n",
      "Wall time: 25.6 s\n"
     ]
    }
   ],
   "source": [
    "# Read the csv file saved in s3 bucket\n",
    "%%time \n",
    "videogames = pd.read_csv(\"s3://checkpoint1-inputfiles/reviews_videogames.csv\",low_memory = False)"
   ]
  },
  {
   "cell_type": "code",
   "execution_count": 65,
   "metadata": {},
   "outputs": [
    {
     "data": {
      "text/html": [
       "<div>\n",
       "<style scoped>\n",
       "    .dataframe tbody tr th:only-of-type {\n",
       "        vertical-align: middle;\n",
       "    }\n",
       "\n",
       "    .dataframe tbody tr th {\n",
       "        vertical-align: top;\n",
       "    }\n",
       "\n",
       "    .dataframe thead th {\n",
       "        text-align: right;\n",
       "    }\n",
       "</style>\n",
       "<table border=\"1\" class=\"dataframe\">\n",
       "  <thead>\n",
       "    <tr style=\"text-align: right;\">\n",
       "      <th></th>\n",
       "      <th>overall</th>\n",
       "      <th>verified</th>\n",
       "      <th>reviewTime</th>\n",
       "      <th>reviewerID</th>\n",
       "      <th>asin</th>\n",
       "      <th>reviewerName</th>\n",
       "      <th>reviewText</th>\n",
       "      <th>summary</th>\n",
       "      <th>unixReviewTime</th>\n",
       "      <th>vote</th>\n",
       "      <th>...</th>\n",
       "      <th>style_Package-Type</th>\n",
       "      <th>style_Package-Quantity</th>\n",
       "      <th>style_Item-Package-Quantity</th>\n",
       "      <th>style_Pattern</th>\n",
       "      <th>style_Platform-for-Display</th>\n",
       "      <th>style_Style-Name</th>\n",
       "      <th>style_Denomination</th>\n",
       "      <th>style_Offer-Type</th>\n",
       "      <th>style_Configuration</th>\n",
       "      <th>style_Color-Name</th>\n",
       "    </tr>\n",
       "  </thead>\n",
       "  <tbody>\n",
       "    <tr>\n",
       "      <th>0</th>\n",
       "      <td>5.0</td>\n",
       "      <td>True</td>\n",
       "      <td>2015-10-17</td>\n",
       "      <td>A1HP7NVNPFMA4N</td>\n",
       "      <td>0700026657</td>\n",
       "      <td>Ambrosia075</td>\n",
       "      <td>This game is a bit hard to get the hang of, bu...</td>\n",
       "      <td>but when you do it s great.</td>\n",
       "      <td>1445040000</td>\n",
       "      <td>NaN</td>\n",
       "      <td>...</td>\n",
       "      <td>NaN</td>\n",
       "      <td>NaN</td>\n",
       "      <td>NaN</td>\n",
       "      <td>NaN</td>\n",
       "      <td>NaN</td>\n",
       "      <td>NaN</td>\n",
       "      <td>NaN</td>\n",
       "      <td>NaN</td>\n",
       "      <td>NaN</td>\n",
       "      <td>NaN</td>\n",
       "    </tr>\n",
       "    <tr>\n",
       "      <th>1</th>\n",
       "      <td>4.0</td>\n",
       "      <td>False</td>\n",
       "      <td>2015-07-27</td>\n",
       "      <td>A1JGAP0185YJI6</td>\n",
       "      <td>0700026657</td>\n",
       "      <td>travis</td>\n",
       "      <td>I played it a while but it was alright. The st...</td>\n",
       "      <td>But in spite of that it was fun, I liked it</td>\n",
       "      <td>1437955200</td>\n",
       "      <td>NaN</td>\n",
       "      <td>...</td>\n",
       "      <td>NaN</td>\n",
       "      <td>NaN</td>\n",
       "      <td>NaN</td>\n",
       "      <td>NaN</td>\n",
       "      <td>NaN</td>\n",
       "      <td>NaN</td>\n",
       "      <td>NaN</td>\n",
       "      <td>NaN</td>\n",
       "      <td>NaN</td>\n",
       "      <td>NaN</td>\n",
       "    </tr>\n",
       "  </tbody>\n",
       "</table>\n",
       "<p>2 rows × 30 columns</p>\n",
       "</div>"
      ],
      "text/plain": [
       "   overall  verified  reviewTime      reviewerID        asin reviewerName  \\\n",
       "0      5.0      True  2015-10-17  A1HP7NVNPFMA4N  0700026657  Ambrosia075   \n",
       "1      4.0     False  2015-07-27  A1JGAP0185YJI6  0700026657       travis   \n",
       "\n",
       "                                          reviewText  \\\n",
       "0  This game is a bit hard to get the hang of, bu...   \n",
       "1  I played it a while but it was alright. The st...   \n",
       "\n",
       "                                       summary  unixReviewTime  vote  ...  \\\n",
       "0                  but when you do it s great.      1445040000   NaN  ...   \n",
       "1  But in spite of that it was fun, I liked it      1437955200   NaN  ...   \n",
       "\n",
       "  style_Package-Type  style_Package-Quantity style_Item-Package-Quantity  \\\n",
       "0                NaN                     NaN                         NaN   \n",
       "1                NaN                     NaN                         NaN   \n",
       "\n",
       "  style_Pattern style_Platform-for-Display style_Style-Name  \\\n",
       "0           NaN                        NaN              NaN   \n",
       "1           NaN                        NaN              NaN   \n",
       "\n",
       "  style_Denomination style_Offer-Type style_Configuration style_Color-Name  \n",
       "0                NaN              NaN                 NaN              NaN  \n",
       "1                NaN              NaN                 NaN              NaN  \n",
       "\n",
       "[2 rows x 30 columns]"
      ]
     },
     "execution_count": 65,
     "metadata": {},
     "output_type": "execute_result"
    }
   ],
   "source": [
    "videogames.head(2)"
   ]
  },
  {
   "cell_type": "code",
   "execution_count": 66,
   "metadata": {},
   "outputs": [
    {
     "data": {
      "text/plain": [
       "Index(['overall', 'verified', 'reviewTime', 'reviewerID', 'asin',\n",
       "       'reviewerName', 'reviewText', 'summary', 'unixReviewTime', 'vote',\n",
       "       'style_Format', 'image', 'style_Platform', 'style_Edition',\n",
       "       'style_Color', 'style_Size', 'style_Style', 'style_Length',\n",
       "       'style_Subscription-Length', 'style_Content', 'style_Package-Type',\n",
       "       'style_Package-Quantity', 'style_Item-Package-Quantity',\n",
       "       'style_Pattern', 'style_Platform-for-Display', 'style_Style-Name',\n",
       "       'style_Denomination', 'style_Offer-Type', 'style_Configuration',\n",
       "       'style_Color-Name'],\n",
       "      dtype='object')"
      ]
     },
     "execution_count": 66,
     "metadata": {},
     "output_type": "execute_result"
    }
   ],
   "source": [
    "videogames[videogames.asin == '0700026657'].columns"
   ]
  },
  {
   "cell_type": "markdown",
   "metadata": {},
   "source": [
    "# Word2vec"
   ]
  },
  {
   "cell_type": "code",
   "execution_count": 67,
   "metadata": {},
   "outputs": [
    {
     "name": "stdout",
     "output_type": "stream",
     "text": [
      "Training input/output will be stored in sagemaker-us-east-1-611490640760/sagemaker/lda-videogames-review\n",
      "\n",
      "IAM Role: arn:aws:iam::611490640760:role/LabRole\n"
     ]
    }
   ],
   "source": [
    "session = sagemaker.Session()\n",
    "role = get_execution_role()\n",
    "bucket = session.default_bucket()\n",
    "prefix = \"sagemaker/lda-videogames-review\"\n",
    "\n",
    "print(\"Training input/output will be stored in {}/{}\".format(bucket, prefix))\n",
    "print(\"\\nIAM Role: {}\".format(role))"
   ]
  },
  {
   "cell_type": "code",
   "execution_count": 68,
   "metadata": {},
   "outputs": [],
   "source": [
    "reviewers = set(videogames.reviewerID.unique())"
   ]
  },
  {
   "cell_type": "code",
   "execution_count": 69,
   "metadata": {},
   "outputs": [],
   "source": [
    "user_to_products = pd.DataFrame(columns = [['reviewerID','products']])"
   ]
  },
  {
   "cell_type": "markdown",
   "metadata": {},
   "source": [
    "# Loading dict"
   ]
  },
  {
   "cell_type": "code",
   "execution_count": 9,
   "metadata": {},
   "outputs": [
    {
     "name": "stdout",
     "output_type": "stream",
     "text": [
      "CPU times: user 1.23 s, sys: 217 ms, total: 1.45 s\n",
      "Wall time: 1.97 s\n"
     ]
    }
   ],
   "source": [
    "%%time\n",
    "with open('s3://checkpoint1-inputfiles/products_file.txt') as f:\n",
    "        contents =  eval(f.read())"
   ]
  },
  {
   "cell_type": "code",
   "execution_count": 75,
   "metadata": {},
   "outputs": [],
   "source": [
    "df = pd.DataFrame(list(contents.items()),columns = ['reviewerID','asin'])"
   ]
  },
  {
   "cell_type": "code",
   "execution_count": 76,
   "metadata": {},
   "outputs": [],
   "source": [
    "# clean the asin columns \n",
    "\n",
    "df['asin'] = df['asin'].astype(str).str.replace('[', '', regex = True).replace(']', '', regex = True).replace({'\\'': ''}, regex = True).replace(',','', regex=True).replace('\\\\n',' ', regex = True)\n",
    "\n",
    "\n"
   ]
  },
  {
   "cell_type": "code",
   "execution_count": 77,
   "metadata": {},
   "outputs": [
    {
     "data": {
      "text/html": [
       "<div>\n",
       "<style scoped>\n",
       "    .dataframe tbody tr th:only-of-type {\n",
       "        vertical-align: middle;\n",
       "    }\n",
       "\n",
       "    .dataframe tbody tr th {\n",
       "        vertical-align: top;\n",
       "    }\n",
       "\n",
       "    .dataframe thead th {\n",
       "        text-align: right;\n",
       "    }\n",
       "</style>\n",
       "<table border=\"1\" class=\"dataframe\">\n",
       "  <thead>\n",
       "    <tr style=\"text-align: right;\">\n",
       "      <th></th>\n",
       "      <th>reviewerID</th>\n",
       "      <th>asin</th>\n",
       "    </tr>\n",
       "  </thead>\n",
       "  <tbody>\n",
       "    <tr>\n",
       "      <th>0</th>\n",
       "      <td>A2T7YFEAI0X74W</td>\n",
       "      <td>B00009WAUH B000O62OS6 B000P5FEJC B000QW9D14 B0...</td>\n",
       "    </tr>\n",
       "    <tr>\n",
       "      <th>1</th>\n",
       "      <td>A3043WYL272JIK</td>\n",
       "      <td>B000067DPM B000087L4G B00008XKZM B0008GJRQ4 B0...</td>\n",
       "    </tr>\n",
       "    <tr>\n",
       "      <th>2</th>\n",
       "      <td>A257QFK8MAYEUC</td>\n",
       "      <td>B003S9WJ9A B00503E8S2 B0054IUY22 B006RJ373K B0...</td>\n",
       "    </tr>\n",
       "  </tbody>\n",
       "</table>\n",
       "</div>"
      ],
      "text/plain": [
       "       reviewerID                                               asin\n",
       "0  A2T7YFEAI0X74W  B00009WAUH B000O62OS6 B000P5FEJC B000QW9D14 B0...\n",
       "1  A3043WYL272JIK  B000067DPM B000087L4G B00008XKZM B0008GJRQ4 B0...\n",
       "2  A257QFK8MAYEUC  B003S9WJ9A B00503E8S2 B0054IUY22 B006RJ373K B0..."
      ]
     },
     "execution_count": 77,
     "metadata": {},
     "output_type": "execute_result"
    }
   ],
   "source": [
    "df.head(3)"
   ]
  },
  {
   "cell_type": "code",
   "execution_count": 80,
   "metadata": {},
   "outputs": [],
   "source": [
    "# save product vocabulary file \n",
    "\n",
    "df.asin.to_csv('s3://checkpoint1-inputfiles/train_data/product_vocab.txt', header=False, index=False, sep='\\t')"
   ]
  },
  {
   "cell_type": "code",
   "execution_count": 81,
   "metadata": {},
   "outputs": [],
   "source": [
    "# load the file with product vocabulary \n",
    "\n",
    "#%%time\n",
    "with open('s3://checkpoint1-inputfiles/train_data/product_vocab.txt', 'r') as f:\n",
    "    c2 = f.readlines()\n",
    "    \n",
    "c3 = [s.rstrip('\\n') for s in c2]"
   ]
  },
  {
   "cell_type": "code",
   "execution_count": 82,
   "metadata": {},
   "outputs": [],
   "source": [
    "total_words = [\" \".join(c3)]"
   ]
  },
  {
   "cell_type": "code",
   "execution_count": 83,
   "metadata": {},
   "outputs": [
    {
     "name": "stderr",
     "output_type": "stream",
     "text": [
      "[nltk_data] Downloading package punkt to /root/nltk_data...\n",
      "[nltk_data]   Package punkt is already up-to-date!\n"
     ]
    }
   ],
   "source": [
    "import nltk\n",
    "nltk.download('punkt')\n",
    "from nltk.tokenize import word_tokenize"
   ]
  },
  {
   "cell_type": "code",
   "execution_count": 84,
   "metadata": {},
   "outputs": [],
   "source": [
    "# tokenize the words in products files \n",
    "\n",
    "tokenized_sents = [word_tokenize(i) for i in total_words]"
   ]
  },
  {
   "cell_type": "code",
   "execution_count": 85,
   "metadata": {},
   "outputs": [],
   "source": [
    "# find the unique words \n",
    "\n",
    "vocabulary = np.unique(tokenized_sents[0])"
   ]
  },
  {
   "cell_type": "code",
   "execution_count": 97,
   "metadata": {},
   "outputs": [],
   "source": [
    "# create a file with prodcuts details to use for training\n",
    "\n",
    "with open('s3://checkpoint1-inputfiles/train_data/products.txt', 'w') as file:\n",
    "    strings = df.asin.to_string(header=False, index=False)\n",
    "    file.write(strings)"
   ]
  },
  {
   "cell_type": "code",
   "execution_count": 98,
   "metadata": {},
   "outputs": [
    {
     "name": "stdout",
     "output_type": "stream",
     "text": [
      "CPU times: user 44.5 ms, sys: 3.65 ms, total: 48.2 ms\n",
      "Wall time: 125 ms\n"
     ]
    }
   ],
   "source": [
    "%%time\n",
    "with open('s3://checkpoint1-inputfiles/train_data/products.txt') as f:\n",
    "    c =  f.readlines()"
   ]
  },
  {
   "cell_type": "markdown",
   "metadata": {},
   "source": [
    "# Word2Vec"
   ]
  },
  {
   "cell_type": "code",
   "execution_count": 100,
   "metadata": {},
   "outputs": [],
   "source": [
    "train_data = 's3://checkpoint1-inputfiles/train_data/products.txt'"
   ]
  },
  {
   "cell_type": "code",
   "execution_count": 101,
   "metadata": {},
   "outputs": [],
   "source": [
    "s3_output_location = 's3://sagemaker-studio-1orda0h8hkx/outputfiles-word2vec'"
   ]
  },
  {
   "cell_type": "code",
   "execution_count": 102,
   "metadata": {},
   "outputs": [],
   "source": [
    "region_name = boto3.Session().region_name\n",
    "sess = sagemaker.Session()"
   ]
  },
  {
   "cell_type": "code",
   "execution_count": 103,
   "metadata": {},
   "outputs": [
    {
     "name": "stdout",
     "output_type": "stream",
     "text": [
      "Using SageMaker BlazingText container: 811284229777.dkr.ecr.us-east-1.amazonaws.com/blazingtext:1 (us-east-1)\n"
     ]
    }
   ],
   "source": [
    "container = sagemaker.image_uris.retrieve(\n",
    "    region=region_name, framework=\"blazingtext\"\n",
    ")\n",
    "print(\"Using SageMaker BlazingText container: {} ({})\".format(container, region_name))"
   ]
  },
  {
   "cell_type": "code",
   "execution_count": 104,
   "metadata": {},
   "outputs": [],
   "source": [
    "bt_model = sagemaker.estimator.Estimator(\n",
    "    container,\n",
    "    role,\n",
    "    instance_count=1,\n",
    "    instance_type=\"ml.m5.large\", \n",
    "    volume_size=30,\n",
    "    max_run=360000,\n",
    "    input_mode=\"File\",\n",
    "    output_path=s3_output_location,\n",
    "    sagemaker_session=sess,\n",
    ")"
   ]
  },
  {
   "cell_type": "code",
   "execution_count": 105,
   "metadata": {},
   "outputs": [],
   "source": [
    "bt_model.set_hyperparameters(\n",
    "    mode=\"skipgram\",\n",
    "    epochs=5,\n",
    "    min_count=5,\n",
    "    sampling_threshold=0.0001,\n",
    "    learning_rate=0.05,\n",
    "    window_size=5,\n",
    "    vector_dim=100,\n",
    "    negative_samples=5,\n",
    "    subwords=True,  # Enables learning of subword embeddings for OOV word vector generation\n",
    "    min_char=3,  # min length of char ngrams\n",
    "    max_char=6,  # max length of char ngrams\n",
    "    batch_size=11,  #  = (2*window_size + 1) (Preferred. Used only if mode is batch_skipgram)\n",
    "    evaluation=True,\n",
    ")  # Perform similarity evaluation on WS-353 dataset at the end of training"
   ]
  },
  {
   "cell_type": "markdown",
   "metadata": {},
   "source": [
    "# Train"
   ]
  },
  {
   "cell_type": "code",
   "execution_count": 106,
   "metadata": {},
   "outputs": [],
   "source": [
    "train_data = sagemaker.inputs.TrainingInput(\n",
    "    train_data,\n",
    "    distribution=\"FullyReplicated\",\n",
    "    content_type=\"text/plain\",\n",
    "    s3_data_type=\"S3Prefix\",\n",
    ")\n",
    "data_channels = {\"train\": train_data}"
   ]
  },
  {
   "cell_type": "code",
   "execution_count": 107,
   "metadata": {},
   "outputs": [
    {
     "name": "stdout",
     "output_type": "stream",
     "text": [
      "2021-11-02 19:45:03 Starting - Starting the training job...\n",
      "2021-11-02 19:45:32 Starting - Launching requested ML instancesProfilerReport-1635882302: InProgress\n",
      "......\n",
      "2021-11-02 19:46:33 Starting - Preparing the instances for training.........\n",
      "2021-11-02 19:47:53 Downloading - Downloading input data...\n",
      "2021-11-02 19:48:33 Training - Training image download completed. Training in progress..\u001b[34mArguments: train\u001b[0m\n",
      "\u001b[34m[11/02/2021 19:48:25 WARNING 140519756232320] Loggers have already been setup.\u001b[0m\n",
      "\u001b[34m[11/02/2021 19:48:25 WARNING 140519756232320] Loggers have already been setup.\u001b[0m\n",
      "\u001b[34m[11/02/2021 19:48:25 INFO 140519756232320] nvidia-smi took: 0.02517247200012207 secs to identify 0 gpus\u001b[0m\n",
      "\u001b[34m[11/02/2021 19:48:25 INFO 140519756232320] Running single machine CPU BlazingText training using skipgram mode.\u001b[0m\n",
      "\u001b[34mNumber of CPU sockets found in instance is  1\u001b[0m\n",
      "\u001b[34m[11/02/2021 19:48:25 INFO 140519756232320] Processing /opt/ml/input/data/train/products.txt . File size: 2.685901641845703 MB\u001b[0m\n",
      "\u001b[34mRead 0M words\u001b[0m\n",
      "\u001b[34mNumber of words:  8483\u001b[0m\n",
      "\u001b[34m##### Alpha: 0.0489  Progress: 2.24%  Million Words/sec: 0.04 #####\u001b[0m\n",
      "\u001b[34m##### Alpha: 0.0458  Progress: 8.42%  Million Words/sec: 0.10 #####\u001b[0m\n",
      "\u001b[34m##### Alpha: 0.0427  Progress: 14.59%  Million Words/sec: 0.13 #####\u001b[0m\n",
      "\u001b[34m##### Alpha: 0.0396  Progress: 20.89%  Million Words/sec: 0.15 #####\u001b[0m\n",
      "\u001b[34m##### Alpha: 0.0367  Progress: 26.51%  Million Words/sec: 0.16 #####\u001b[0m\n",
      "\u001b[34m##### Alpha: 0.0337  Progress: 32.66%  Million Words/sec: 0.17 #####\u001b[0m\n",
      "\u001b[34m##### Alpha: 0.0307  Progress: 38.50%  Million Words/sec: 0.18 #####\u001b[0m\n",
      "\u001b[34m##### Alpha: 0.0276  Progress: 44.86%  Million Words/sec: 0.19 #####\u001b[0m\n",
      "\u001b[34m##### Alpha: 0.0245  Progress: 51.09%  Million Words/sec: 0.20 #####\u001b[0m\n",
      "\u001b[34m##### Alpha: 0.0214  Progress: 57.23%  Million Words/sec: 0.20 #####\u001b[0m\n",
      "\u001b[34m##### Alpha: 0.0183  Progress: 63.36%  Million Words/sec: 0.20 #####\u001b[0m\n",
      "\u001b[34m##### Alpha: 0.0152  Progress: 69.69%  Million Words/sec: 0.21 #####\u001b[0m\n",
      "\u001b[34m##### Alpha: 0.0121  Progress: 75.88%  Million Words/sec: 0.21 #####\u001b[0m\n",
      "\u001b[34m##### Alpha: 0.0089  Progress: 82.15%  Million Words/sec: 0.22 #####\u001b[0m\n",
      "\u001b[34m##### Alpha: 0.0059  Progress: 88.27%  Million Words/sec: 0.22 #####\u001b[0m\n",
      "\u001b[34m##### Alpha: 0.0027  Progress: 94.61%  Million Words/sec: 0.22 #####\u001b[0m\n",
      "\u001b[34m##### Alpha: -0.0000  Progress: 100.00%  Million Words/sec: 0.22 #####\u001b[0m\n",
      "\u001b[34m##### Alpha: 0.0000  Progress: 100.00%  Million Words/sec: 0.22 #####\u001b[0m\n",
      "\u001b[34mTraining finished.\u001b[0m\n",
      "\u001b[34mAverage throughput in Million words/sec: 0.22\u001b[0m\n",
      "\u001b[34mTotal training time in seconds: 7.53\u001b[0m\n",
      "\u001b[34mEvaluating word embeddings....\u001b[0m\n",
      "\u001b[34mVectors read from: /opt/ml/model/vectors.txt \u001b[0m\n",
      "\u001b[34m{\n",
      "    \"EN-WS-353-ALL.txt\": {\n",
      "        \"not_found\": 353,\n",
      "        \"spearmans_rho\": 0.0,\n",
      "        \"total_pairs\": 353\n",
      "    },\n",
      "    \"EN-WS-353-REL.txt\": {\n",
      "        \"not_found\": 252,\n",
      "        \"spearmans_rho\": 0.0,\n",
      "        \"total_pairs\": 252\n",
      "    },\n",
      "    \"EN-WS-353-SIM.txt\": {\n",
      "        \"not_found\": 203,\n",
      "        \"spearmans_rho\": 0.0,\n",
      "        \"total_pairs\": 203\n",
      "    },\n",
      "    \"mean_rho\": 0.0\u001b[0m\n",
      "\u001b[34m}\u001b[0m\n",
      "\u001b[34m[11/02/2021 19:48:41 INFO 140519756232320] #mean_rho: 0.0\u001b[0m\n",
      "\n",
      "2021-11-02 19:48:53 Uploading - Uploading generated training model\n",
      "2021-11-02 19:50:54 Completed - Training job completed\n",
      "ProfilerReport-1635882302: NoIssuesFound\n",
      "Training seconds: 163\n",
      "Billable seconds: 163\n"
     ]
    }
   ],
   "source": [
    "bt_model.fit(inputs=data_channels, logs=True)"
   ]
  },
  {
   "cell_type": "markdown",
   "metadata": {},
   "source": [
    "# Deploy"
   ]
  },
  {
   "cell_type": "code",
   "execution_count": 108,
   "metadata": {},
   "outputs": [
    {
     "name": "stdout",
     "output_type": "stream",
     "text": [
      "---------!"
     ]
    }
   ],
   "source": [
    "bt_endpoint = bt_model.deploy(initial_instance_count=1, instance_type=\"ml.m4.xlarge\")"
   ]
  },
  {
   "cell_type": "markdown",
   "metadata": {},
   "source": [
    "# Predict"
   ]
  },
  {
   "cell_type": "code",
   "execution_count": 109,
   "metadata": {},
   "outputs": [],
   "source": [
    "from sagemaker.serializers import JSONSerializer\n",
    "\n",
    "bt_endpoint.serializer = JSONSerializer()\n",
    "\n",
    "word1 = [\"3828770193\"]\n",
    "word2 = [\"6050036071\"]\n",
    "payload1 = {\"instances\": word1}\n",
    "payload2 = {\"instances\": word2}\n",
    "response1 = bt_endpoint.predict(payload1)\n",
    "response2 = bt_endpoint.predict(payload2)\n",
    "vecs1 = json.loads(response1)\n",
    "vecs2 = json.loads(response2)"
   ]
  },
  {
   "cell_type": "code",
   "execution_count": 110,
   "metadata": {},
   "outputs": [],
   "source": [
    "def similarity(v1, v2):\n",
    "    n1 = np.linalg.norm(v1)\n",
    "    n2 = np.linalg.norm(v2)\n",
    "    return np.dot(v1, v2) / n1 / n2"
   ]
  },
  {
   "cell_type": "code",
   "execution_count": 111,
   "metadata": {},
   "outputs": [],
   "source": [
    "v1 = vecs1[0]['vector']\n",
    "v2 = vecs2[0]['vector']"
   ]
  },
  {
   "cell_type": "code",
   "execution_count": 112,
   "metadata": {},
   "outputs": [
    {
     "data": {
      "text/plain": [
       "-0.19820168174042893"
      ]
     },
     "execution_count": 112,
     "metadata": {},
     "output_type": "execute_result"
    }
   ],
   "source": [
    "similarity(v1, v2)"
   ]
  },
  {
   "cell_type": "markdown",
   "metadata": {},
   "source": [
    "# Item similarity for recommendation"
   ]
  },
  {
   "cell_type": "code",
   "execution_count": 113,
   "metadata": {},
   "outputs": [],
   "source": [
    "# function to find similar products\n",
    "\n",
    "vectors = {}\n",
    "\n",
    "def item_vectors():\n",
    "    vectors = {}\n",
    "    payload = {\"instances\": vocabulary}\n",
    "    response = bt_endpoint.predict(payload)\n",
    "    vecs = json.loads(response)\n",
    "    for i in vecs:\n",
    "        arr = np.array(i[\"vector\"], dtype=float)\n",
    "        if np.linalg.norm(arr) == 0:\n",
    "            continue\n",
    "        vectors[i[\"word\"]] = arr\n",
    "    return vectors"
   ]
  },
  {
   "cell_type": "code",
   "execution_count": 138,
   "metadata": {},
   "outputs": [],
   "source": [
    "vectors = item_vectors()"
   ]
  },
  {
   "cell_type": "code",
   "execution_count": 164,
   "metadata": {},
   "outputs": [],
   "source": [
    "\n",
    "def item_similarity(item, vectors):\n",
    "    sim = {}\n",
    "    v1 = vectors[item]\n",
    "    for i in vocabulary:\n",
    "        if i != item:\n",
    "            v2 = vectors[i]\n",
    "            d = similarity(v1, v2)\n",
    "            sim[i] = d\n",
    "    return sim\n",
    "\n",
    "def recommendations(item, n, vectors):\n",
    "    sim = item_similarity(item, vectors)\n",
    "    sorted_sim = {k: v for k, v in sorted(sim.items(), key=lambda item: item[1])}\n",
    "    n_items = list(sorted_sim)[:n]\n",
    "    return n_items\n",
    "\n",
    "def find_reviewer(videogames, reviewerid, n, vectors):\n",
    "    asin = videogames[videogames.reviewerID == reviewerid].sort_values(['reviewTime','unixReviewTime'], ascending=False).iloc[-1].asin\n",
    "    recos = recommendations(asin,n,vectors)\n",
    "    return recos\n",
    "    "
   ]
  },
  {
   "cell_type": "code",
   "execution_count": 170,
   "metadata": {},
   "outputs": [
    {
     "data": {
      "text/plain": [
       "['3828770193', '8565000168']"
      ]
     },
     "execution_count": 170,
     "metadata": {},
     "output_type": "execute_result"
    }
   ],
   "source": [
    "find_reviewer(videogames, 'A1HP7NVNPFMA4N', 2, vectors)"
   ]
  },
  {
   "cell_type": "code",
   "execution_count": null,
   "metadata": {},
   "outputs": [],
   "source": []
  }
 ],
 "metadata": {
  "instance_type": "ml.t3.medium",
  "kernelspec": {
   "display_name": "Python 3 (Data Science)",
   "language": "python",
   "name": "python3__SAGEMAKER_INTERNAL__arn:aws:sagemaker:us-east-1:081325390199:image/datascience-1.0"
  },
  "language_info": {
   "codemirror_mode": {
    "name": "ipython",
    "version": 3
   },
   "file_extension": ".py",
   "mimetype": "text/x-python",
   "name": "python",
   "nbconvert_exporter": "python",
   "pygments_lexer": "ipython3",
   "version": "3.7.10"
  }
 },
 "nbformat": 4,
 "nbformat_minor": 4
}
